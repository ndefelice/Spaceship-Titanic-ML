{
 "cells": [
  {
   "cell_type": "code",
   "execution_count": 59,
   "id": "7d34d183",
   "metadata": {},
   "outputs": [],
   "source": [
    "# Import helpful libraries\n",
    "import pandas as pd\n",
    "import numpy as np\n",
    "import seaborn as sns\n",
    "from sklearn import svm\n",
    "from sklearn.linear_model import LogisticRegression\n",
    "from sklearn.model_selection import cross_val_score\n",
    "from sklearn.preprocessing import LabelEncoder"
   ]
  },
  {
   "cell_type": "code",
   "execution_count": 60,
   "id": "3b4388ce",
   "metadata": {},
   "outputs": [
    {
     "name": "stdout",
     "output_type": "stream",
     "text": [
      "<class 'pandas.core.frame.DataFrame'>\n",
      "RangeIndex: 8693 entries, 0 to 8692\n",
      "Data columns (total 14 columns):\n",
      " #   Column        Non-Null Count  Dtype  \n",
      "---  ------        --------------  -----  \n",
      " 0   PassengerId   8693 non-null   object \n",
      " 1   HomePlanet    8492 non-null   object \n",
      " 2   CryoSleep     8476 non-null   object \n",
      " 3   Cabin         8494 non-null   object \n",
      " 4   Destination   8511 non-null   object \n",
      " 5   Age           8514 non-null   float64\n",
      " 6   VIP           8490 non-null   object \n",
      " 7   RoomService   8512 non-null   float64\n",
      " 8   FoodCourt     8510 non-null   float64\n",
      " 9   ShoppingMall  8485 non-null   float64\n",
      " 10  Spa           8510 non-null   float64\n",
      " 11  VRDeck        8505 non-null   float64\n",
      " 12  Name          8493 non-null   object \n",
      " 13  Transported   8693 non-null   bool   \n",
      "dtypes: bool(1), float64(6), object(7)\n",
      "memory usage: 891.5+ KB\n"
     ]
    }
   ],
   "source": [
    "#Import dataframe\n",
    "df = pd.read_csv('C:/Users/flatt/OneDrive/spaceship_titanic_train.csv')\n",
    "\n",
    "#Print information about the data\n",
    "df.info()"
   ]
  },
  {
   "cell_type": "code",
   "execution_count": 61,
   "id": "f729ee54",
   "metadata": {},
   "outputs": [
    {
     "data": {
      "text/html": [
       "<div>\n",
       "<style scoped>\n",
       "    .dataframe tbody tr th:only-of-type {\n",
       "        vertical-align: middle;\n",
       "    }\n",
       "\n",
       "    .dataframe tbody tr th {\n",
       "        vertical-align: top;\n",
       "    }\n",
       "\n",
       "    .dataframe thead th {\n",
       "        text-align: right;\n",
       "    }\n",
       "</style>\n",
       "<table border=\"1\" class=\"dataframe\">\n",
       "  <thead>\n",
       "    <tr style=\"text-align: right;\">\n",
       "      <th></th>\n",
       "      <th>PassengerId</th>\n",
       "      <th>HomePlanet</th>\n",
       "      <th>CryoSleep</th>\n",
       "      <th>Cabin</th>\n",
       "      <th>Destination</th>\n",
       "      <th>Age</th>\n",
       "      <th>VIP</th>\n",
       "      <th>RoomService</th>\n",
       "      <th>FoodCourt</th>\n",
       "      <th>ShoppingMall</th>\n",
       "      <th>Spa</th>\n",
       "      <th>VRDeck</th>\n",
       "      <th>Name</th>\n",
       "      <th>Transported</th>\n",
       "    </tr>\n",
       "  </thead>\n",
       "  <tbody>\n",
       "    <tr>\n",
       "      <th>0</th>\n",
       "      <td>0001_01</td>\n",
       "      <td>Europa</td>\n",
       "      <td>False</td>\n",
       "      <td>B/0/P</td>\n",
       "      <td>TRAPPIST-1e</td>\n",
       "      <td>39.0</td>\n",
       "      <td>False</td>\n",
       "      <td>0.0</td>\n",
       "      <td>0.0</td>\n",
       "      <td>0.0</td>\n",
       "      <td>0.0</td>\n",
       "      <td>0.0</td>\n",
       "      <td>Maham Ofracculy</td>\n",
       "      <td>False</td>\n",
       "    </tr>\n",
       "    <tr>\n",
       "      <th>1</th>\n",
       "      <td>0002_01</td>\n",
       "      <td>Earth</td>\n",
       "      <td>False</td>\n",
       "      <td>F/0/S</td>\n",
       "      <td>TRAPPIST-1e</td>\n",
       "      <td>24.0</td>\n",
       "      <td>False</td>\n",
       "      <td>109.0</td>\n",
       "      <td>9.0</td>\n",
       "      <td>25.0</td>\n",
       "      <td>549.0</td>\n",
       "      <td>44.0</td>\n",
       "      <td>Juanna Vines</td>\n",
       "      <td>True</td>\n",
       "    </tr>\n",
       "    <tr>\n",
       "      <th>2</th>\n",
       "      <td>0003_01</td>\n",
       "      <td>Europa</td>\n",
       "      <td>False</td>\n",
       "      <td>A/0/S</td>\n",
       "      <td>TRAPPIST-1e</td>\n",
       "      <td>58.0</td>\n",
       "      <td>True</td>\n",
       "      <td>43.0</td>\n",
       "      <td>3576.0</td>\n",
       "      <td>0.0</td>\n",
       "      <td>6715.0</td>\n",
       "      <td>49.0</td>\n",
       "      <td>Altark Susent</td>\n",
       "      <td>False</td>\n",
       "    </tr>\n",
       "    <tr>\n",
       "      <th>3</th>\n",
       "      <td>0003_02</td>\n",
       "      <td>Europa</td>\n",
       "      <td>False</td>\n",
       "      <td>A/0/S</td>\n",
       "      <td>TRAPPIST-1e</td>\n",
       "      <td>33.0</td>\n",
       "      <td>False</td>\n",
       "      <td>0.0</td>\n",
       "      <td>1283.0</td>\n",
       "      <td>371.0</td>\n",
       "      <td>3329.0</td>\n",
       "      <td>193.0</td>\n",
       "      <td>Solam Susent</td>\n",
       "      <td>False</td>\n",
       "    </tr>\n",
       "    <tr>\n",
       "      <th>4</th>\n",
       "      <td>0004_01</td>\n",
       "      <td>Earth</td>\n",
       "      <td>False</td>\n",
       "      <td>F/1/S</td>\n",
       "      <td>TRAPPIST-1e</td>\n",
       "      <td>16.0</td>\n",
       "      <td>False</td>\n",
       "      <td>303.0</td>\n",
       "      <td>70.0</td>\n",
       "      <td>151.0</td>\n",
       "      <td>565.0</td>\n",
       "      <td>2.0</td>\n",
       "      <td>Willy Santantines</td>\n",
       "      <td>True</td>\n",
       "    </tr>\n",
       "  </tbody>\n",
       "</table>\n",
       "</div>"
      ],
      "text/plain": [
       "  PassengerId HomePlanet CryoSleep  Cabin  Destination   Age    VIP  \\\n",
       "0     0001_01     Europa     False  B/0/P  TRAPPIST-1e  39.0  False   \n",
       "1     0002_01      Earth     False  F/0/S  TRAPPIST-1e  24.0  False   \n",
       "2     0003_01     Europa     False  A/0/S  TRAPPIST-1e  58.0   True   \n",
       "3     0003_02     Europa     False  A/0/S  TRAPPIST-1e  33.0  False   \n",
       "4     0004_01      Earth     False  F/1/S  TRAPPIST-1e  16.0  False   \n",
       "\n",
       "   RoomService  FoodCourt  ShoppingMall     Spa  VRDeck               Name  \\\n",
       "0          0.0        0.0           0.0     0.0     0.0    Maham Ofracculy   \n",
       "1        109.0        9.0          25.0   549.0    44.0       Juanna Vines   \n",
       "2         43.0     3576.0           0.0  6715.0    49.0      Altark Susent   \n",
       "3          0.0     1283.0         371.0  3329.0   193.0       Solam Susent   \n",
       "4        303.0       70.0         151.0   565.0     2.0  Willy Santantines   \n",
       "\n",
       "   Transported  \n",
       "0        False  \n",
       "1         True  \n",
       "2        False  \n",
       "3        False  \n",
       "4         True  "
      ]
     },
     "execution_count": 61,
     "metadata": {},
     "output_type": "execute_result"
    }
   ],
   "source": [
    "#Print the first several lines of the dataframe\n",
    "df.head()"
   ]
  },
  {
   "cell_type": "code",
   "execution_count": 62,
   "id": "e461a2c8",
   "metadata": {},
   "outputs": [
    {
     "data": {
      "text/plain": [
       "<AxesSubplot:xlabel='Transported', ylabel='count'>"
      ]
     },
     "execution_count": 62,
     "metadata": {},
     "output_type": "execute_result"
    },
    {
     "data": {
      "image/png": "[encoded data removed]",
      "text/plain": [
       "<Figure size 432x288 with 1 Axes>"
      ]
     },
     "metadata": {
      "needs_background": "light"
     },
     "output_type": "display_data"
    }
   ],
   "source": [
    "#Must create our label, which is if the passenger was transported or not.\n",
    "#Since df.info() tells us that 'Transported' is a boolean object, let's convert\n",
    "#it to an integer value before defining our label.\n",
    "\n",
    "#0 if False, 1 if True, 2 if NaN (works for VIP and CryoSleep columns as well)\n",
    "def boolean_to_int(results):\n",
    "    binary_results = []\n",
    "    for result in results:\n",
    "        if (result == False):\n",
    "            binary_results.append(0)\n",
    "        elif (result == True):\n",
    "            binary_results.append(1)\n",
    "        else: #Value is NaN\n",
    "            binary_results.append(2)\n",
    "    return binary_results\n",
    "\n",
    "#Change 'Transported' to a binary representation (0 is no, 1 is yes)\n",
    "results = np.array(df['Transported'])\n",
    "transported_binary = boolean_to_int(results)\n",
    "df['Transported'] = transported_binary\n",
    "\n",
    "#Define our label\n",
    "y = df.Transported\n",
    "\n",
    "#See the distrubution of our label\n",
    "sns.countplot(x='Transported', data=df)"
   ]
  },
  {
   "cell_type": "code",
   "execution_count": 63,
   "id": "607a1ae7",
   "metadata": {},
   "outputs": [
    {
     "data": {
      "text/plain": [
       "<seaborn.axisgrid.FacetGrid at 0x20e7f3bf310>"
      ]
     },
     "execution_count": 63,
     "metadata": {},
     "output_type": "execute_result"
    },
    {
     "data": {
      "image/png": "[encoded data removed]",
      "text/plain": [
       "<Figure size 360x360 with 1 Axes>"
      ]
     },
     "metadata": {
      "needs_background": "light"
     },
     "output_type": "display_data"
    }
   ],
   "source": [
    "#See the distrubution of home planets\n",
    "sns.displot(x='HomePlanet', data=df)"
   ]
  },
  {
   "cell_type": "code",
   "execution_count": 64,
   "id": "f63bef19",
   "metadata": {},
   "outputs": [
    {
     "data": {
      "text/plain": [
       "<seaborn.axisgrid.FacetGrid at 0x20e7f582dc0>"
      ]
     },
     "execution_count": 64,
     "metadata": {},
     "output_type": "execute_result"
    },
    {
     "data": {
      "image/png": "[encoded data removed]",
      "text/plain": [
       "<Figure size 360x360 with 1 Axes>"
      ]
     },
     "metadata": {
      "needs_background": "light"
     },
     "output_type": "display_data"
    }
   ],
   "source": [
    "sns.displot(x='Destination', data=df)"
   ]
  },
  {
   "cell_type": "code",
   "execution_count": 65,
   "id": "40a06a4d",
   "metadata": {},
   "outputs": [
    {
     "data": {
      "text/plain": [
       "<seaborn.axisgrid.FacetGrid at 0x20e7f57e5e0>"
      ]
     },
     "execution_count": 65,
     "metadata": {},
     "output_type": "execute_result"
    },
    {
     "data": {
      "image/png": "[encoded data removed]",
      "text/plain": [
       "<Figure size 360x360 with 1 Axes>"
      ]
     },
     "metadata": {
      "needs_background": "light"
     },
     "output_type": "display_data"
    }
   ],
   "source": [
    "#Fill NaN's in 'Age' column with average age\n",
    "ag = np.array(df['Age'])\n",
    "df['Age'].fillna(np.mean(ag), inplace=True)\n",
    "\n",
    "#Makes the age an interval of 5\n",
    "df['AgeGroup'] = (df['Age'] // 5) * 5\n",
    "\n",
    "#See the distribution of ages on the ship\n",
    "sns.displot(x='AgeGroup', data=df)"
   ]
  },
  {
   "cell_type": "code",
   "execution_count": 66,
   "id": "0eb0e5ab",
   "metadata": {},
   "outputs": [
    {
     "data": {
      "text/plain": [
       "<seaborn.axisgrid.FacetGrid at 0x20e7f59dca0>"
      ]
     },
     "execution_count": 66,
     "metadata": {},
     "output_type": "execute_result"
    },
    {
     "data": {
      "image/png": "[encoded data removed]",
      "text/plain": [
       "<Figure size 360x360 with 1 Axes>"
      ]
     },
     "metadata": {
      "needs_background": "light"
     },
     "output_type": "display_data"
    }
   ],
   "source": [
    "#Divide the Cabin into deck, num, and side\n",
    "df[['Deck', 'Num', 'Side']] = df['Cabin'].str.split('/', n=2, expand=True)\n",
    "\n",
    "#See the dsitribution of people on each deck\n",
    "sns.displot(x='Deck', data=df)"
   ]
  },
  {
   "cell_type": "code",
   "execution_count": 67,
   "id": "0571e486",
   "metadata": {},
   "outputs": [
    {
     "data": {
      "text/plain": [
       "<seaborn.axisgrid.FacetGrid at 0x20e7f628160>"
      ]
     },
     "execution_count": 67,
     "metadata": {},
     "output_type": "execute_result"
    },
    {
     "data": {
      "image/png": "[encoded data removed]",
      "text/plain": [
       "<Figure size 360x360 with 1 Axes>"
      ]
     },
     "metadata": {
      "needs_background": "light"
     },
     "output_type": "display_data"
    }
   ],
   "source": [
    "#See the dsitribution of people on each deck\n",
    "sns.displot(x='Side', data=df)"
   ]
  },
  {
   "cell_type": "code",
   "execution_count": 68,
   "id": "20b30d66",
   "metadata": {},
   "outputs": [
    {
     "data": {
      "text/plain": [
       "count     8693\n",
       "unique    6217\n",
       "top       4498\n",
       "freq         8\n",
       "Name: 0, dtype: object"
      ]
     },
     "execution_count": 68,
     "metadata": {},
     "output_type": "execute_result"
    }
   ],
   "source": [
    "#The first 4 digits of an ID is the group the person is traveling with.\n",
    "passengerid = df['PassengerId'].str.split('_', n=1, expand=True)\n",
    "groups = passengerid[0]\n",
    "df['Group'] = groups\n",
    "\n",
    "#See the distrubution of groups\n",
    "groups.describe()"
   ]
  },
  {
   "cell_type": "code",
   "execution_count": 69,
   "id": "1aa28401",
   "metadata": {},
   "outputs": [
    {
     "data": {
      "text/html": [
       "<div>\n",
       "<style scoped>\n",
       "    .dataframe tbody tr th:only-of-type {\n",
       "        vertical-align: middle;\n",
       "    }\n",
       "\n",
       "    .dataframe tbody tr th {\n",
       "        vertical-align: top;\n",
       "    }\n",
       "\n",
       "    .dataframe thead th {\n",
       "        text-align: right;\n",
       "    }\n",
       "</style>\n",
       "<table border=\"1\" class=\"dataframe\">\n",
       "  <thead>\n",
       "    <tr style=\"text-align: right;\">\n",
       "      <th></th>\n",
       "      <th>PassengerId</th>\n",
       "      <th>GroupID</th>\n",
       "      <th>HomePlanetID</th>\n",
       "      <th>DestinationID</th>\n",
       "      <th>DeckID</th>\n",
       "      <th>NumID</th>\n",
       "      <th>SideID</th>\n",
       "      <th>CryoSleep</th>\n",
       "      <th>VIP</th>\n",
       "      <th>Age</th>\n",
       "      <th>AgeGroup</th>\n",
       "      <th>RoomService</th>\n",
       "      <th>VRDeck</th>\n",
       "      <th>Spa</th>\n",
       "      <th>ShoppingMall</th>\n",
       "      <th>FoodCourt</th>\n",
       "      <th>Transported</th>\n",
       "    </tr>\n",
       "  </thead>\n",
       "  <tbody>\n",
       "    <tr>\n",
       "      <th>0</th>\n",
       "      <td>0001_01</td>\n",
       "      <td>0</td>\n",
       "      <td>2</td>\n",
       "      <td>0</td>\n",
       "      <td>1</td>\n",
       "      <td>0</td>\n",
       "      <td>0</td>\n",
       "      <td>0</td>\n",
       "      <td>0</td>\n",
       "      <td>39.0</td>\n",
       "      <td>35.0</td>\n",
       "      <td>0.0</td>\n",
       "      <td>0.0</td>\n",
       "      <td>0.0</td>\n",
       "      <td>0.0</td>\n",
       "      <td>0.0</td>\n",
       "      <td>0</td>\n",
       "    </tr>\n",
       "    <tr>\n",
       "      <th>1</th>\n",
       "      <td>0002_01</td>\n",
       "      <td>1</td>\n",
       "      <td>0</td>\n",
       "      <td>0</td>\n",
       "      <td>5</td>\n",
       "      <td>0</td>\n",
       "      <td>1</td>\n",
       "      <td>0</td>\n",
       "      <td>0</td>\n",
       "      <td>24.0</td>\n",
       "      <td>20.0</td>\n",
       "      <td>109.0</td>\n",
       "      <td>44.0</td>\n",
       "      <td>549.0</td>\n",
       "      <td>25.0</td>\n",
       "      <td>9.0</td>\n",
       "      <td>1</td>\n",
       "    </tr>\n",
       "    <tr>\n",
       "      <th>2</th>\n",
       "      <td>0003_01</td>\n",
       "      <td>2</td>\n",
       "      <td>2</td>\n",
       "      <td>0</td>\n",
       "      <td>0</td>\n",
       "      <td>0</td>\n",
       "      <td>1</td>\n",
       "      <td>0</td>\n",
       "      <td>1</td>\n",
       "      <td>58.0</td>\n",
       "      <td>55.0</td>\n",
       "      <td>43.0</td>\n",
       "      <td>49.0</td>\n",
       "      <td>6715.0</td>\n",
       "      <td>0.0</td>\n",
       "      <td>3576.0</td>\n",
       "      <td>0</td>\n",
       "    </tr>\n",
       "    <tr>\n",
       "      <th>3</th>\n",
       "      <td>0003_02</td>\n",
       "      <td>2</td>\n",
       "      <td>2</td>\n",
       "      <td>0</td>\n",
       "      <td>0</td>\n",
       "      <td>0</td>\n",
       "      <td>1</td>\n",
       "      <td>0</td>\n",
       "      <td>0</td>\n",
       "      <td>33.0</td>\n",
       "      <td>30.0</td>\n",
       "      <td>0.0</td>\n",
       "      <td>193.0</td>\n",
       "      <td>3329.0</td>\n",
       "      <td>371.0</td>\n",
       "      <td>1283.0</td>\n",
       "      <td>0</td>\n",
       "    </tr>\n",
       "    <tr>\n",
       "      <th>4</th>\n",
       "      <td>0004_01</td>\n",
       "      <td>3</td>\n",
       "      <td>0</td>\n",
       "      <td>0</td>\n",
       "      <td>5</td>\n",
       "      <td>1</td>\n",
       "      <td>1</td>\n",
       "      <td>0</td>\n",
       "      <td>0</td>\n",
       "      <td>16.0</td>\n",
       "      <td>15.0</td>\n",
       "      <td>303.0</td>\n",
       "      <td>2.0</td>\n",
       "      <td>565.0</td>\n",
       "      <td>151.0</td>\n",
       "      <td>70.0</td>\n",
       "      <td>1</td>\n",
       "    </tr>\n",
       "  </tbody>\n",
       "</table>\n",
       "</div>"
      ],
      "text/plain": [
       "  PassengerId  GroupID  HomePlanetID  DestinationID  DeckID  NumID  SideID  \\\n",
       "0     0001_01        0             2              0       1      0       0   \n",
       "1     0002_01        1             0              0       5      0       1   \n",
       "2     0003_01        2             2              0       0      0       1   \n",
       "3     0003_02        2             2              0       0      0       1   \n",
       "4     0004_01        3             0              0       5      1       1   \n",
       "\n",
       "   CryoSleep  VIP   Age  AgeGroup  RoomService  VRDeck     Spa  ShoppingMall  \\\n",
       "0          0    0  39.0      35.0          0.0     0.0     0.0           0.0   \n",
       "1          0    0  24.0      20.0        109.0    44.0   549.0          25.0   \n",
       "2          0    1  58.0      55.0         43.0    49.0  6715.0           0.0   \n",
       "3          0    0  33.0      30.0          0.0   193.0  3329.0         371.0   \n",
       "4          0    0  16.0      15.0        303.0     2.0   565.0         151.0   \n",
       "\n",
       "   FoodCourt  Transported  \n",
       "0        0.0            0  \n",
       "1        9.0            1  \n",
       "2     3576.0            0  \n",
       "3     1283.0            0  \n",
       "4       70.0            1  "
      ]
     },
     "execution_count": 69,
     "metadata": {},
     "output_type": "execute_result"
    }
   ],
   "source": [
    "#Convert other features to useful numerical values for this dataset:\n",
    "\n",
    "df['VIP'] = boolean_to_int(df['VIP'])\n",
    "df['CryoSleep'] = boolean_to_int(df['CryoSleep'])\n",
    "\n",
    "#0 if Earth, 1 if Mars, 2 if Europa, 3 if NaN\n",
    "def planet_to_int(planets):\n",
    "    results = []\n",
    "    for planet in planets:\n",
    "        if (planet == 'Earth'):\n",
    "            results.append(0)\n",
    "        elif (planet == 'Mars'):\n",
    "            results.append(1)\n",
    "        elif (planet == 'Europa'):\n",
    "            results.append(2)\n",
    "        else: #NaN\n",
    "            results.append(3)\n",
    "    return results\n",
    "\n",
    "#0 if TRAPPIST-1e, 1 if PSO J318.5-22, 2 if 55 Cancri e, 3 if NaN\n",
    "def dest_to_int(dests):\n",
    "    results = []\n",
    "    for dest in dests:\n",
    "        if (dest == 'TRAPPIST-1e'):\n",
    "            results.append(0)\n",
    "        elif (dest == 'PSO J318.5-22'):\n",
    "            results.append(1)\n",
    "        elif (dest == '55 Cancri e'):\n",
    "            results.append(2)\n",
    "        else: #NaN\n",
    "            results.append(3)\n",
    "    return results\n",
    "\n",
    "#0 if P, 1 if S, 2 if NaN\n",
    "def side_to_int(dests):\n",
    "    results = []\n",
    "    for dest in dests:\n",
    "        if (dest == 'P'):\n",
    "            results.append(0)\n",
    "        elif (dest == 'S'):\n",
    "            results.append(1)\n",
    "        else: #NaN\n",
    "            results.append(2)\n",
    "    return results\n",
    "\n",
    "df['HomePlanetID'] = planet_to_int(df['HomePlanet'])\n",
    "df['DestinationID'] = dest_to_int(df['Destination'])\n",
    "df['SideID'] = side_to_int(df['Side'])\n",
    "\n",
    "#Use LabelEncoder for Deck\n",
    "le = LabelEncoder()\n",
    "deckID = le.fit_transform(df['Deck'])\n",
    "df['DeckID'] = deckID\n",
    "\n",
    "#Use LabelEncoder for Num\n",
    "le = LabelEncoder()\n",
    "numID = le.fit_transform(df['Num'])\n",
    "df['NumID'] = numID\n",
    "\n",
    "#Use LabelEncoder for Group\n",
    "le = LabelEncoder()\n",
    "groupID = le.fit_transform(df['Group'])\n",
    "df['GroupID'] = groupID\n",
    "\n",
    "\n",
    "df = df[['PassengerId', 'GroupID', 'HomePlanetID', 'DestinationID', 'DeckID' ,'NumID' ,'SideID', 'CryoSleep', 'VIP',\n",
    "       'Age', 'AgeGroup', 'RoomService', 'VRDeck', 'Spa', 'ShoppingMall', 'FoodCourt', 'Transported']]\n",
    "df.head()"
   ]
  },
  {
   "cell_type": "code",
   "execution_count": 70,
   "id": "052a0c0c",
   "metadata": {},
   "outputs": [
    {
     "name": "stderr",
     "output_type": "stream",
     "text": [
      "C:\\Users\\flatt\\AppData\\Local\\Temp/ipykernel_29548/1260839614.py:2: FutureWarning: The default value of numeric_only in DataFrame.corr is deprecated. In a future version, it will default to False. Select only valid columns or specify the value of numeric_only to silence this warning.\n",
      "  corr = df.corr()\n"
     ]
    },
    {
     "data": {
      "text/html": [
       "<div>\n",
       "<style scoped>\n",
       "    .dataframe tbody tr th:only-of-type {\n",
       "        vertical-align: middle;\n",
       "    }\n",
       "\n",
       "    .dataframe tbody tr th {\n",
       "        vertical-align: top;\n",
       "    }\n",
       "\n",
       "    .dataframe thead th {\n",
       "        text-align: right;\n",
       "    }\n",
       "</style>\n",
       "<table border=\"1\" class=\"dataframe\">\n",
       "  <thead>\n",
       "    <tr style=\"text-align: right;\">\n",
       "      <th></th>\n",
       "      <th>GroupID</th>\n",
       "      <th>HomePlanetID</th>\n",
       "      <th>DestinationID</th>\n",
       "      <th>DeckID</th>\n",
       "      <th>NumID</th>\n",
       "      <th>SideID</th>\n",
       "      <th>CryoSleep</th>\n",
       "      <th>VIP</th>\n",
       "      <th>Age</th>\n",
       "      <th>AgeGroup</th>\n",
       "      <th>RoomService</th>\n",
       "      <th>VRDeck</th>\n",
       "      <th>Spa</th>\n",
       "      <th>ShoppingMall</th>\n",
       "      <th>FoodCourt</th>\n",
       "      <th>Transported</th>\n",
       "    </tr>\n",
       "  </thead>\n",
       "  <tbody>\n",
       "    <tr>\n",
       "      <th>GroupID</th>\n",
       "      <td>1.000000</td>\n",
       "      <td>0.002070</td>\n",
       "      <td>0.004539</td>\n",
       "      <td>-0.010348</td>\n",
       "      <td>-0.229919</td>\n",
       "      <td>-0.017187</td>\n",
       "      <td>-0.000556</td>\n",
       "      <td>0.014847</td>\n",
       "      <td>-0.009460</td>\n",
       "      <td>-0.010177</td>\n",
       "      <td>-0.000357</td>\n",
       "      <td>0.015465</td>\n",
       "      <td>-0.005151</td>\n",
       "      <td>0.017466</td>\n",
       "      <td>-0.009608</td>\n",
       "      <td>0.021825</td>\n",
       "    </tr>\n",
       "    <tr>\n",
       "      <th>HomePlanetID</th>\n",
       "      <td>0.002070</td>\n",
       "      <td>1.000000</td>\n",
       "      <td>0.125365</td>\n",
       "      <td>-0.737342</td>\n",
       "      <td>0.026826</td>\n",
       "      <td>0.036114</td>\n",
       "      <td>0.095221</td>\n",
       "      <td>0.057796</td>\n",
       "      <td>0.216884</td>\n",
       "      <td>0.216797</td>\n",
       "      <td>0.043023</td>\n",
       "      <td>0.220366</td>\n",
       "      <td>0.212006</td>\n",
       "      <td>0.025921</td>\n",
       "      <td>0.287120</td>\n",
       "      <td>0.179162</td>\n",
       "    </tr>\n",
       "    <tr>\n",
       "      <th>DestinationID</th>\n",
       "      <td>0.004539</td>\n",
       "      <td>0.125365</td>\n",
       "      <td>1.000000</td>\n",
       "      <td>-0.157579</td>\n",
       "      <td>0.022018</td>\n",
       "      <td>0.015795</td>\n",
       "      <td>0.065053</td>\n",
       "      <td>0.019466</td>\n",
       "      <td>0.012506</td>\n",
       "      <td>0.011139</td>\n",
       "      <td>-0.044962</td>\n",
       "      <td>0.062805</td>\n",
       "      <td>0.055406</td>\n",
       "      <td>-0.025527</td>\n",
       "      <td>0.098288</td>\n",
       "      <td>0.099737</td>\n",
       "    </tr>\n",
       "    <tr>\n",
       "      <th>DeckID</th>\n",
       "      <td>-0.010348</td>\n",
       "      <td>-0.737342</td>\n",
       "      <td>-0.157579</td>\n",
       "      <td>1.000000</td>\n",
       "      <td>0.044371</td>\n",
       "      <td>0.093644</td>\n",
       "      <td>0.021737</td>\n",
       "      <td>-0.060580</td>\n",
       "      <td>-0.232809</td>\n",
       "      <td>-0.231806</td>\n",
       "      <td>-0.016236</td>\n",
       "      <td>-0.245486</td>\n",
       "      <td>-0.204819</td>\n",
       "      <td>-0.034373</td>\n",
       "      <td>-0.306808</td>\n",
       "      <td>-0.109925</td>\n",
       "    </tr>\n",
       "    <tr>\n",
       "      <th>NumID</th>\n",
       "      <td>-0.229919</td>\n",
       "      <td>0.026826</td>\n",
       "      <td>0.022018</td>\n",
       "      <td>0.044371</td>\n",
       "      <td>1.000000</td>\n",
       "      <td>0.113086</td>\n",
       "      <td>0.003314</td>\n",
       "      <td>0.001273</td>\n",
       "      <td>-0.000702</td>\n",
       "      <td>0.000616</td>\n",
       "      <td>0.009281</td>\n",
       "      <td>0.004146</td>\n",
       "      <td>0.023599</td>\n",
       "      <td>-0.004945</td>\n",
       "      <td>0.007125</td>\n",
       "      <td>0.019015</td>\n",
       "    </tr>\n",
       "    <tr>\n",
       "      <th>SideID</th>\n",
       "      <td>-0.017187</td>\n",
       "      <td>0.036114</td>\n",
       "      <td>0.015795</td>\n",
       "      <td>0.093644</td>\n",
       "      <td>0.113086</td>\n",
       "      <td>1.000000</td>\n",
       "      <td>0.020462</td>\n",
       "      <td>0.005636</td>\n",
       "      <td>0.011879</td>\n",
       "      <td>0.012744</td>\n",
       "      <td>0.000398</td>\n",
       "      <td>-0.010366</td>\n",
       "      <td>0.012488</td>\n",
       "      <td>-0.023315</td>\n",
       "      <td>0.018352</td>\n",
       "      <td>0.093319</td>\n",
       "    </tr>\n",
       "    <tr>\n",
       "      <th>CryoSleep</th>\n",
       "      <td>-0.000556</td>\n",
       "      <td>0.095221</td>\n",
       "      <td>0.065053</td>\n",
       "      <td>0.021737</td>\n",
       "      <td>0.003314</td>\n",
       "      <td>0.020462</td>\n",
       "      <td>1.000000</td>\n",
       "      <td>-0.023407</td>\n",
       "      <td>-0.069141</td>\n",
       "      <td>-0.067112</td>\n",
       "      <td>-0.219033</td>\n",
       "      <td>-0.173856</td>\n",
       "      <td>-0.180362</td>\n",
       "      <td>-0.189642</td>\n",
       "      <td>-0.183855</td>\n",
       "      <td>0.404716</td>\n",
       "    </tr>\n",
       "    <tr>\n",
       "      <th>VIP</th>\n",
       "      <td>0.014847</td>\n",
       "      <td>0.057796</td>\n",
       "      <td>0.019466</td>\n",
       "      <td>-0.060580</td>\n",
       "      <td>0.001273</td>\n",
       "      <td>0.005636</td>\n",
       "      <td>-0.023407</td>\n",
       "      <td>1.000000</td>\n",
       "      <td>0.032874</td>\n",
       "      <td>0.034956</td>\n",
       "      <td>0.038368</td>\n",
       "      <td>0.054235</td>\n",
       "      <td>0.019832</td>\n",
       "      <td>-0.009756</td>\n",
       "      <td>0.055531</td>\n",
       "      <td>-0.014260</td>\n",
       "    </tr>\n",
       "    <tr>\n",
       "      <th>Age</th>\n",
       "      <td>-0.009460</td>\n",
       "      <td>0.216884</td>\n",
       "      <td>0.012506</td>\n",
       "      <td>-0.232809</td>\n",
       "      <td>-0.000702</td>\n",
       "      <td>0.011879</td>\n",
       "      <td>-0.069141</td>\n",
       "      <td>0.032874</td>\n",
       "      <td>1.000000</td>\n",
       "      <td>0.995195</td>\n",
       "      <td>0.068723</td>\n",
       "      <td>0.101007</td>\n",
       "      <td>0.123970</td>\n",
       "      <td>0.033133</td>\n",
       "      <td>0.130421</td>\n",
       "      <td>-0.075026</td>\n",
       "    </tr>\n",
       "    <tr>\n",
       "      <th>AgeGroup</th>\n",
       "      <td>-0.010177</td>\n",
       "      <td>0.216797</td>\n",
       "      <td>0.011139</td>\n",
       "      <td>-0.231806</td>\n",
       "      <td>0.000616</td>\n",
       "      <td>0.012744</td>\n",
       "      <td>-0.067112</td>\n",
       "      <td>0.034956</td>\n",
       "      <td>0.995195</td>\n",
       "      <td>1.000000</td>\n",
       "      <td>0.068976</td>\n",
       "      <td>0.100880</td>\n",
       "      <td>0.120778</td>\n",
       "      <td>0.033757</td>\n",
       "      <td>0.130291</td>\n",
       "      <td>-0.073815</td>\n",
       "    </tr>\n",
       "    <tr>\n",
       "      <th>RoomService</th>\n",
       "      <td>-0.000357</td>\n",
       "      <td>0.043023</td>\n",
       "      <td>-0.044962</td>\n",
       "      <td>-0.016236</td>\n",
       "      <td>0.009281</td>\n",
       "      <td>0.000398</td>\n",
       "      <td>-0.219033</td>\n",
       "      <td>0.038368</td>\n",
       "      <td>0.068723</td>\n",
       "      <td>0.068976</td>\n",
       "      <td>1.000000</td>\n",
       "      <td>-0.019581</td>\n",
       "      <td>0.010080</td>\n",
       "      <td>0.054480</td>\n",
       "      <td>-0.015889</td>\n",
       "      <td>-0.244611</td>\n",
       "    </tr>\n",
       "    <tr>\n",
       "      <th>VRDeck</th>\n",
       "      <td>0.015465</td>\n",
       "      <td>0.220366</td>\n",
       "      <td>0.062805</td>\n",
       "      <td>-0.245486</td>\n",
       "      <td>0.004146</td>\n",
       "      <td>-0.010366</td>\n",
       "      <td>-0.173856</td>\n",
       "      <td>0.054235</td>\n",
       "      <td>0.101007</td>\n",
       "      <td>0.100880</td>\n",
       "      <td>-0.019581</td>\n",
       "      <td>1.000000</td>\n",
       "      <td>0.153821</td>\n",
       "      <td>-0.007322</td>\n",
       "      <td>0.227995</td>\n",
       "      <td>-0.207075</td>\n",
       "    </tr>\n",
       "    <tr>\n",
       "      <th>Spa</th>\n",
       "      <td>-0.005151</td>\n",
       "      <td>0.212006</td>\n",
       "      <td>0.055406</td>\n",
       "      <td>-0.204819</td>\n",
       "      <td>0.023599</td>\n",
       "      <td>0.012488</td>\n",
       "      <td>-0.180362</td>\n",
       "      <td>0.019832</td>\n",
       "      <td>0.123970</td>\n",
       "      <td>0.120778</td>\n",
       "      <td>0.010080</td>\n",
       "      <td>0.153821</td>\n",
       "      <td>1.000000</td>\n",
       "      <td>0.013879</td>\n",
       "      <td>0.221891</td>\n",
       "      <td>-0.221131</td>\n",
       "    </tr>\n",
       "    <tr>\n",
       "      <th>ShoppingMall</th>\n",
       "      <td>0.017466</td>\n",
       "      <td>0.025921</td>\n",
       "      <td>-0.025527</td>\n",
       "      <td>-0.034373</td>\n",
       "      <td>-0.004945</td>\n",
       "      <td>-0.023315</td>\n",
       "      <td>-0.189642</td>\n",
       "      <td>-0.009756</td>\n",
       "      <td>0.033133</td>\n",
       "      <td>0.033757</td>\n",
       "      <td>0.054480</td>\n",
       "      <td>-0.007322</td>\n",
       "      <td>0.013879</td>\n",
       "      <td>1.000000</td>\n",
       "      <td>-0.014228</td>\n",
       "      <td>0.010141</td>\n",
       "    </tr>\n",
       "    <tr>\n",
       "      <th>FoodCourt</th>\n",
       "      <td>-0.009608</td>\n",
       "      <td>0.287120</td>\n",
       "      <td>0.098288</td>\n",
       "      <td>-0.306808</td>\n",
       "      <td>0.007125</td>\n",
       "      <td>0.018352</td>\n",
       "      <td>-0.183855</td>\n",
       "      <td>0.055531</td>\n",
       "      <td>0.130421</td>\n",
       "      <td>0.130291</td>\n",
       "      <td>-0.015889</td>\n",
       "      <td>0.227995</td>\n",
       "      <td>0.221891</td>\n",
       "      <td>-0.014228</td>\n",
       "      <td>1.000000</td>\n",
       "      <td>0.046566</td>\n",
       "    </tr>\n",
       "    <tr>\n",
       "      <th>Transported</th>\n",
       "      <td>0.021825</td>\n",
       "      <td>0.179162</td>\n",
       "      <td>0.099737</td>\n",
       "      <td>-0.109925</td>\n",
       "      <td>0.019015</td>\n",
       "      <td>0.093319</td>\n",
       "      <td>0.404716</td>\n",
       "      <td>-0.014260</td>\n",
       "      <td>-0.075026</td>\n",
       "      <td>-0.073815</td>\n",
       "      <td>-0.244611</td>\n",
       "      <td>-0.207075</td>\n",
       "      <td>-0.221131</td>\n",
       "      <td>0.010141</td>\n",
       "      <td>0.046566</td>\n",
       "      <td>1.000000</td>\n",
       "    </tr>\n",
       "  </tbody>\n",
       "</table>\n",
       "</div>"
      ],
      "text/plain": [
       "                GroupID  HomePlanetID  DestinationID    DeckID     NumID  \\\n",
       "GroupID        1.000000      0.002070       0.004539 -0.010348 -0.229919   \n",
       "HomePlanetID   0.002070      1.000000       0.125365 -0.737342  0.026826   \n",
       "DestinationID  0.004539      0.125365       1.000000 -0.157579  0.022018   \n",
       "DeckID        -0.010348     -0.737342      -0.157579  1.000000  0.044371   \n",
       "NumID         -0.229919      0.026826       0.022018  0.044371  1.000000   \n",
       "SideID        -0.017187      0.036114       0.015795  0.093644  0.113086   \n",
       "CryoSleep     -0.000556      0.095221       0.065053  0.021737  0.003314   \n",
       "VIP            0.014847      0.057796       0.019466 -0.060580  0.001273   \n",
       "Age           -0.009460      0.216884       0.012506 -0.232809 -0.000702   \n",
       "AgeGroup      -0.010177      0.216797       0.011139 -0.231806  0.000616   \n",
       "RoomService   -0.000357      0.043023      -0.044962 -0.016236  0.009281   \n",
       "VRDeck         0.015465      0.220366       0.062805 -0.245486  0.004146   \n",
       "Spa           -0.005151      0.212006       0.055406 -0.204819  0.023599   \n",
       "ShoppingMall   0.017466      0.025921      -0.025527 -0.034373 -0.004945   \n",
       "FoodCourt     -0.009608      0.287120       0.098288 -0.306808  0.007125   \n",
       "Transported    0.021825      0.179162       0.099737 -0.109925  0.019015   \n",
       "\n",
       "                 SideID  CryoSleep       VIP       Age  AgeGroup  RoomService  \\\n",
       "GroupID       -0.017187  -0.000556  0.014847 -0.009460 -0.010177    -0.000357   \n",
       "HomePlanetID   0.036114   0.095221  0.057796  0.216884  0.216797     0.043023   \n",
       "DestinationID  0.015795   0.065053  0.019466  0.012506  0.011139    -0.044962   \n",
       "DeckID         0.093644   0.021737 -0.060580 -0.232809 -0.231806    -0.016236   \n",
       "NumID          0.113086   0.003314  0.001273 -0.000702  0.000616     0.009281   \n",
       "SideID         1.000000   0.020462  0.005636  0.011879  0.012744     0.000398   \n",
       "CryoSleep      0.020462   1.000000 -0.023407 -0.069141 -0.067112    -0.219033   \n",
       "VIP            0.005636  -0.023407  1.000000  0.032874  0.034956     0.038368   \n",
       "Age            0.011879  -0.069141  0.032874  1.000000  0.995195     0.068723   \n",
       "AgeGroup       0.012744  -0.067112  0.034956  0.995195  1.000000     0.068976   \n",
       "RoomService    0.000398  -0.219033  0.038368  0.068723  0.068976     1.000000   \n",
       "VRDeck        -0.010366  -0.173856  0.054235  0.101007  0.100880    -0.019581   \n",
       "Spa            0.012488  -0.180362  0.019832  0.123970  0.120778     0.010080   \n",
       "ShoppingMall  -0.023315  -0.189642 -0.009756  0.033133  0.033757     0.054480   \n",
       "FoodCourt      0.018352  -0.183855  0.055531  0.130421  0.130291    -0.015889   \n",
       "Transported    0.093319   0.404716 -0.014260 -0.075026 -0.073815    -0.244611   \n",
       "\n",
       "                 VRDeck       Spa  ShoppingMall  FoodCourt  Transported  \n",
       "GroupID        0.015465 -0.005151      0.017466  -0.009608     0.021825  \n",
       "HomePlanetID   0.220366  0.212006      0.025921   0.287120     0.179162  \n",
       "DestinationID  0.062805  0.055406     -0.025527   0.098288     0.099737  \n",
       "DeckID        -0.245486 -0.204819     -0.034373  -0.306808    -0.109925  \n",
       "NumID          0.004146  0.023599     -0.004945   0.007125     0.019015  \n",
       "SideID        -0.010366  0.012488     -0.023315   0.018352     0.093319  \n",
       "CryoSleep     -0.173856 -0.180362     -0.189642  -0.183855     0.404716  \n",
       "VIP            0.054235  0.019832     -0.009756   0.055531    -0.014260  \n",
       "Age            0.101007  0.123970      0.033133   0.130421    -0.075026  \n",
       "AgeGroup       0.100880  0.120778      0.033757   0.130291    -0.073815  \n",
       "RoomService   -0.019581  0.010080      0.054480  -0.015889    -0.244611  \n",
       "VRDeck         1.000000  0.153821     -0.007322   0.227995    -0.207075  \n",
       "Spa            0.153821  1.000000      0.013879   0.221891    -0.221131  \n",
       "ShoppingMall  -0.007322  0.013879      1.000000  -0.014228     0.010141  \n",
       "FoodCourt      0.227995  0.221891     -0.014228   1.000000     0.046566  \n",
       "Transported   -0.207075 -0.221131      0.010141   0.046566     1.000000  "
      ]
     },
     "execution_count": 70,
     "metadata": {},
     "output_type": "execute_result"
    }
   ],
   "source": [
    "#Correlations based on the data cleaning already done\n",
    "corr = df.corr()\n",
    "corr"
   ]
  },
  {
   "cell_type": "code",
   "execution_count": 71,
   "id": "7e84df94",
   "metadata": {},
   "outputs": [
    {
     "data": {
      "text/plain": [
       "GroupID          0.021825\n",
       "HomePlanetID     0.179162\n",
       "DestinationID    0.099737\n",
       "DeckID           0.109925\n",
       "NumID            0.019015\n",
       "SideID           0.093319\n",
       "CryoSleep        0.404716\n",
       "VIP              0.014260\n",
       "Age              0.075026\n",
       "AgeGroup         0.073815\n",
       "RoomService      0.244611\n",
       "VRDeck           0.207075\n",
       "Spa              0.221131\n",
       "ShoppingMall     0.010141\n",
       "FoodCourt        0.046566\n",
       "Transported      1.000000\n",
       "Name: Transported, dtype: float64"
      ]
     },
     "execution_count": 71,
     "metadata": {},
     "output_type": "execute_result"
    }
   ],
   "source": [
    "#Correlations to being transported\n",
    "tp = abs(corr['Transported'])\n",
    "tp"
   ]
  },
  {
   "cell_type": "code",
   "execution_count": 72,
   "id": "9c0cadf0",
   "metadata": {},
   "outputs": [
    {
     "data": {
      "text/plain": [
       "<AxesSubplot:xlabel='Transported', ylabel='count'>"
      ]
     },
     "execution_count": 72,
     "metadata": {},
     "output_type": "execute_result"
    },
    {
     "data": {
      "image/png": "[encoded data removed]",
      "text/plain": [
       "<Figure size 432x288 with 1 Axes>"
      ]
     },
     "metadata": {
      "needs_background": "light"
     },
     "output_type": "display_data"
    }
   ],
   "source": [
    "#Visualizing the strong correlation to CryoSleep and being transported\n",
    "sns.countplot(x='Transported', data=df, hue='CryoSleep')"
   ]
  },
  {
   "cell_type": "code",
   "execution_count": 73,
   "id": "d210c170",
   "metadata": {},
   "outputs": [
    {
     "data": {
      "text/plain": [
       "<AxesSubplot:xlabel='SpentMoney', ylabel='count'>"
      ]
     },
     "execution_count": 73,
     "metadata": {},
     "output_type": "execute_result"
    },
    {
     "data": {
      "image/png": "[encoded data removed]",
      "text/plain": [
       "<Figure size 432x288 with 1 Axes>"
      ]
     },
     "metadata": {
      "needs_background": "light"
     },
     "output_type": "display_data"
    }
   ],
   "source": [
    "#Calculate total spending\n",
    "spending = ['RoomService', 'VRDeck', 'Spa', 'ShoppingMall', 'FoodCourt']\n",
    "df['TotalSpending'] = df[spending].sum(axis=1)\n",
    "\n",
    "#0 if a person spent less than $100, 1 if they spent $100 or more\n",
    "def spent_money(spendings):\n",
    "    spent_money = []\n",
    "    for spent in spendings:\n",
    "        if spent < 100:\n",
    "            spent_money.append(0)\n",
    "        else:\n",
    "            spent_money.append(1) \n",
    "    return spent_money\n",
    "\n",
    "#Make 'SpentMoney' a binary representation (0 is < $100, 1 is >= $100)\n",
    "spendings = np.array(df['TotalSpending'])\n",
    "spent_binary = spent_money(spendings)\n",
    "df['SpentMoney'] = spent_binary\n",
    "\n",
    "#See the distrubution of our label\n",
    "sns.countplot(x='SpentMoney', data=df)"
   ]
  },
  {
   "cell_type": "code",
   "execution_count": 74,
   "id": "e24c4ae3",
   "metadata": {},
   "outputs": [
    {
     "data": {
      "text/plain": [
       "<AxesSubplot:xlabel='Transported', ylabel='count'>"
      ]
     },
     "execution_count": 74,
     "metadata": {},
     "output_type": "execute_result"
    },
    {
     "data": {
      "image/png": "[encoded data removed]",
      "text/plain": [
       "<Figure size 432x288 with 1 Axes>"
      ]
     },
     "metadata": {
      "needs_background": "light"
     },
     "output_type": "display_data"
    }
   ],
   "source": [
    "#See if there's a corrlation to spending and being transported\n",
    "sns.countplot(x='Transported', data=df, hue='SpentMoney')"
   ]
  },
  {
   "cell_type": "code",
   "execution_count": 75,
   "id": "3cc25af1",
   "metadata": {},
   "outputs": [
    {
     "data": {
      "text/plain": [
       "<AxesSubplot:xlabel='SpentAtVR', ylabel='count'>"
      ]
     },
     "execution_count": 75,
     "metadata": {},
     "output_type": "execute_result"
    },
    {
     "data": {
      "image/png": "[encoded data removed]",
      "text/plain": [
       "<Figure size 432x288 with 1 Axes>"
      ]
     },
     "metadata": {
      "needs_background": "light"
     },
     "output_type": "display_data"
    }
   ],
   "source": [
    "#Make 'SpentAtVR' a binary representation (0 is no, 1 is yes)\n",
    "spendVR = np.array(df['VRDeck'])\n",
    "spentVR_binary = spent_money(spendVR)\n",
    "df['SpentAtVR'] = spentVR_binary\n",
    "\n",
    "#See the distrubution of our label\n",
    "sns.countplot(x='SpentAtVR', data=df)"
   ]
  },
  {
   "cell_type": "code",
   "execution_count": 76,
   "id": "f5d1f0e9",
   "metadata": {},
   "outputs": [
    {
     "data": {
      "text/plain": [
       "<AxesSubplot:xlabel='Transported', ylabel='count'>"
      ]
     },
     "execution_count": 76,
     "metadata": {},
     "output_type": "execute_result"
    },
    {
     "data": {
      "image/png": "[encoded data removed]",
      "text/plain": [
       "<Figure size 432x288 with 1 Axes>"
      ]
     },
     "metadata": {
      "needs_background": "light"
     },
     "output_type": "display_data"
    }
   ],
   "source": [
    "#See if there's a corrlation to spending at the VRDeck and being transported\n",
    "sns.countplot(x='Transported', data=df, hue='SpentAtVR')"
   ]
  },
  {
   "cell_type": "code",
   "execution_count": 77,
   "id": "41d7ad04",
   "metadata": {},
   "outputs": [
    {
     "data": {
      "text/plain": [
       "<AxesSubplot:xlabel='SpentAtRoom', ylabel='count'>"
      ]
     },
     "execution_count": 77,
     "metadata": {},
     "output_type": "execute_result"
    },
    {
     "data": {
      "image/png": "[encoded data removed]",
      "text/plain": [
       "<Figure size 432x288 with 1 Axes>"
      ]
     },
     "metadata": {
      "needs_background": "light"
     },
     "output_type": "display_data"
    }
   ],
   "source": [
    "#Make 'SpentAtRoom' a binary representation (0 is no, 1 is yes)\n",
    "spendings = np.array(df['RoomService'])\n",
    "spent_binary = spent_money(spendings)\n",
    "df['SpentAtRoom'] = spent_binary\n",
    "\n",
    "#See the distrubution of our label\n",
    "sns.countplot(x='SpentAtRoom', data=df)"
   ]
  },
  {
   "cell_type": "code",
   "execution_count": 78,
   "id": "c6449483",
   "metadata": {},
   "outputs": [
    {
     "data": {
      "text/plain": [
       "<AxesSubplot:xlabel='Transported', ylabel='count'>"
      ]
     },
     "execution_count": 78,
     "metadata": {},
     "output_type": "execute_result"
    },
    {
     "data": {
      "image/png": "[encoded data removed]",
      "text/plain": [
       "<Figure size 432x288 with 1 Axes>"
      ]
     },
     "metadata": {
      "needs_background": "light"
     },
     "output_type": "display_data"
    }
   ],
   "source": [
    "#See if there's a corrlation to spending on Room Services and being transported\n",
    "sns.countplot(x='Transported', data=df, hue='SpentAtRoom')"
   ]
  },
  {
   "cell_type": "code",
   "execution_count": 79,
   "id": "0a9d1d53",
   "metadata": {},
   "outputs": [
    {
     "data": {
      "text/plain": [
       "<AxesSubplot:xlabel='SpentAtSpa', ylabel='count'>"
      ]
     },
     "execution_count": 79,
     "metadata": {},
     "output_type": "execute_result"
    },
    {
     "data": {
      "image/png": "[encoded data removed]",
      "text/plain": [
       "<Figure size 432x288 with 1 Axes>"
      ]
     },
     "metadata": {
      "needs_background": "light"
     },
     "output_type": "display_data"
    }
   ],
   "source": [
    "#Make 'SpentAtSpa' a binary representation (0 is no, 1 is yes)\n",
    "spendVR = np.array(df['Spa'])\n",
    "spentVR_binary = spent_money(spendVR)\n",
    "df['SpentAtSpa'] = spentVR_binary\n",
    "\n",
    "#See the distrubution of our label\n",
    "sns.countplot(x='SpentAtSpa', data=df)"
   ]
  },
  {
   "cell_type": "code",
   "execution_count": 80,
   "id": "fc63092a",
   "metadata": {},
   "outputs": [
    {
     "data": {
      "text/plain": [
       "<AxesSubplot:xlabel='Transported', ylabel='count'>"
      ]
     },
     "execution_count": 80,
     "metadata": {},
     "output_type": "execute_result"
    },
    {
     "data": {
      "image/png": "[encoded data removed]",
      "text/plain": [
       "<Figure size 432x288 with 1 Axes>"
      ]
     },
     "metadata": {
      "needs_background": "light"
     },
     "output_type": "display_data"
    }
   ],
   "source": [
    "#See if there's a corrlation to spending at the spa and being transported\n",
    "sns.countplot(x='Transported', data=df, hue='SpentAtSpa')"
   ]
  },
  {
   "cell_type": "code",
   "execution_count": 81,
   "id": "081abf05",
   "metadata": {},
   "outputs": [
    {
     "data": {
      "text/plain": [
       "<AxesSubplot:xlabel='NumSpentOnImp', ylabel='count'>"
      ]
     },
     "execution_count": 81,
     "metadata": {},
     "output_type": "execute_result"
    },
    {
     "data": {
      "image/png": "[encoded data removed]",
      "text/plain": [
       "<Figure size 432x288 with 1 Axes>"
      ]
     },
     "metadata": {
      "needs_background": "light"
     },
     "output_type": "display_data"
    }
   ],
   "source": [
    "#'NumSpentOnImp' calcluates if you spent at the VR deck, on room service, and/or at the spa\n",
    "imp_spending = ['SpentAtVR', 'SpentAtRoom', 'SpentAtSpa']\n",
    "df['NumSpentOnImp'] = df[imp_spending].sum(axis=1)\n",
    "\n",
    "sns.countplot(x='NumSpentOnImp', data=df)"
   ]
  },
  {
   "cell_type": "code",
   "execution_count": 82,
   "id": "3d8f8dd6",
   "metadata": {},
   "outputs": [
    {
     "data": {
      "text/plain": [
       "<AxesSubplot:xlabel='NumSpentOnImp', ylabel='count'>"
      ]
     },
     "execution_count": 82,
     "metadata": {},
     "output_type": "execute_result"
    },
    {
     "data": {
      "image/png": "[encoded data removed]",
      "text/plain": [
       "<Figure size 432x288 with 1 Axes>"
      ]
     },
     "metadata": {
      "needs_background": "light"
     },
     "output_type": "display_data"
    }
   ],
   "source": [
    "#See if there's a corrlation to spending of these specific features and being transported\n",
    "sns.countplot(x='NumSpentOnImp', data=df, hue='Transported')"
   ]
  },
  {
   "cell_type": "code",
   "execution_count": 83,
   "id": "17e5975c",
   "metadata": {},
   "outputs": [
    {
     "data": {
      "text/plain": [
       "<AxesSubplot:>"
      ]
     },
     "execution_count": 83,
     "metadata": {},
     "output_type": "execute_result"
    },
    {
     "data": {
      "image/png": "[encoded data removed]",
      "text/plain": [
       "<Figure size 432x288 with 2 Axes>"
      ]
     },
     "metadata": {
      "needs_background": "light"
     },
     "output_type": "display_data"
    }
   ],
   "source": [
    "#Compare all of our spending features to being transported\n",
    "spending_var = df[['VRDeck', 'Spa', 'RoomService', 'SpentMoney', \n",
    "                   'SpentAtVR', 'SpentAtSpa', 'SpentAtRoom', 'NumSpentOnImp', 'Transported']]\n",
    "\n",
    "sns.heatmap(spending_var.corr(), annot=True)"
   ]
  },
  {
   "cell_type": "code",
   "execution_count": 84,
   "id": "941abb04",
   "metadata": {},
   "outputs": [],
   "source": [
    "#Lets see if there's any features correlated to spending\n",
    "df_spending = df[['GroupID', 'HomePlanetID', 'DestinationID', 'DeckID' ,'NumID' ,'SideID', 'VIP',\n",
    "                  'AgeGroup', 'SpentAtVR', 'SpentAtRoom', 'SpentAtSpa', 'SpentMoney', 'NumSpentOnImp']]\n",
    "\n",
    "df_s_corr = df_spending.corr()"
   ]
  },
  {
   "cell_type": "code",
   "execution_count": 85,
   "id": "98f99831",
   "metadata": {},
   "outputs": [
    {
     "data": {
      "text/plain": [
       "GroupID          0.000886\n",
       "HomePlanetID     0.108625\n",
       "DestinationID    0.027241\n",
       "DeckID           0.172709\n",
       "NumID            0.005867\n",
       "SideID           0.009915\n",
       "VIP              0.020918\n",
       "AgeGroup         0.122364\n",
       "SpentAtVR        1.000000\n",
       "SpentAtRoom      0.004543\n",
       "SpentAtSpa       0.209752\n",
       "SpentMoney       0.424559\n",
       "NumSpentOnImp    0.640294\n",
       "Name: SpentAtVR, dtype: float64"
      ]
     },
     "execution_count": 85,
     "metadata": {},
     "output_type": "execute_result"
    }
   ],
   "source": [
    "#Correlations to spending on VR deck\n",
    "vr = abs(df_s_corr['SpentAtVR'])\n",
    "vr"
   ]
  },
  {
   "cell_type": "code",
   "execution_count": 86,
   "id": "f8e415ef",
   "metadata": {},
   "outputs": [
    {
     "data": {
      "text/plain": [
       "GroupID          0.010730\n",
       "HomePlanetID     0.113364\n",
       "DestinationID    0.012652\n",
       "DeckID           0.168317\n",
       "NumID            0.008948\n",
       "SideID           0.002936\n",
       "VIP              0.030507\n",
       "AgeGroup         0.137974\n",
       "SpentAtVR        0.209752\n",
       "SpentAtRoom      0.064471\n",
       "SpentAtSpa       1.000000\n",
       "SpentMoney       0.447352\n",
       "NumSpentOnImp    0.678581\n",
       "Name: SpentAtSpa, dtype: float64"
      ]
     },
     "execution_count": 86,
     "metadata": {},
     "output_type": "execute_result"
    }
   ],
   "source": [
    "#Correlations to spending on spa\n",
    "spa = abs(df_s_corr['SpentAtSpa'])\n",
    "spa"
   ]
  },
  {
   "cell_type": "code",
   "execution_count": 87,
   "id": "a11e3455",
   "metadata": {},
   "outputs": [
    {
     "data": {
      "text/plain": [
       "GroupID          0.007376\n",
       "HomePlanetID     0.063074\n",
       "DestinationID    0.082126\n",
       "DeckID           0.055264\n",
       "NumID            0.004542\n",
       "SideID           0.023230\n",
       "VIP              0.019434\n",
       "AgeGroup         0.092313\n",
       "SpentAtVR        0.004543\n",
       "SpentAtRoom      1.000000\n",
       "SpentAtSpa       0.064471\n",
       "SpentMoney       0.435081\n",
       "NumSpentOnImp    0.567242\n",
       "Name: SpentAtRoom, dtype: float64"
      ]
     },
     "execution_count": 87,
     "metadata": {},
     "output_type": "execute_result"
    }
   ],
   "source": [
    "#Correlations to spending on room service\n",
    "rm = abs(df_s_corr['SpentAtRoom'])\n",
    "rm"
   ]
  },
  {
   "cell_type": "code",
   "execution_count": 88,
   "id": "737ff1d6",
   "metadata": {},
   "outputs": [
    {
     "data": {
      "text/plain": [
       "GroupID          0.012701\n",
       "HomePlanetID     0.081987\n",
       "DestinationID    0.058605\n",
       "DeckID           0.059376\n",
       "NumID            0.012572\n",
       "SideID           0.024711\n",
       "VIP              0.028910\n",
       "AgeGroup         0.225670\n",
       "SpentAtVR        0.424559\n",
       "SpentAtRoom      0.435081\n",
       "SpentAtSpa       0.447352\n",
       "SpentMoney       1.000000\n",
       "NumSpentOnImp    0.692958\n",
       "Name: SpentMoney, dtype: float64"
      ]
     },
     "execution_count": 88,
     "metadata": {},
     "output_type": "execute_result"
    }
   ],
   "source": [
    "#Correlations to spending in general\n",
    "sm = abs(df_s_corr['SpentMoney'])\n",
    "sm"
   ]
  },
  {
   "cell_type": "code",
   "execution_count": 89,
   "id": "c6fb2edc",
   "metadata": {},
   "outputs": [
    {
     "data": {
      "text/plain": [
       "GroupID          0.002284\n",
       "HomePlanetID     0.084211\n",
       "DestinationID    0.022480\n",
       "DeckID           0.151403\n",
       "NumID            0.005455\n",
       "SideID           0.015968\n",
       "VIP              0.037602\n",
       "AgeGroup         0.186933\n",
       "SpentAtVR        0.640294\n",
       "SpentAtRoom      0.567242\n",
       "SpentAtSpa       0.678581\n",
       "SpentMoney       0.692958\n",
       "NumSpentOnImp    1.000000\n",
       "Name: NumSpentOnImp, dtype: float64"
      ]
     },
     "execution_count": 89,
     "metadata": {},
     "output_type": "execute_result"
    }
   ],
   "source": [
    "#Correlations to spending on VR deck, spa, and room service\n",
    "nsi = abs(df_s_corr['NumSpentOnImp'])\n",
    "nsi"
   ]
  },
  {
   "cell_type": "code",
   "execution_count": 90,
   "id": "2be5edef",
   "metadata": {
    "scrolled": true
   },
   "outputs": [
    {
     "data": {
      "text/plain": [
       "<seaborn.axisgrid.FacetGrid at 0x20e7fe90520>"
      ]
     },
     "execution_count": 90,
     "metadata": {},
     "output_type": "execute_result"
    },
    {
     "data": {
      "image/png": "[encoded data removed]",
      "text/plain": [
       "<Figure size 453.25x360 with 1 Axes>"
      ]
     },
     "metadata": {
      "needs_background": "light"
     },
     "output_type": "display_data"
    }
   ],
   "source": [
    "#Age group was correlated to spending, there may be correlations we didn't see before\n",
    "sns.displot(x='AgeGroup', data=df, hue='NumSpentOnImp')"
   ]
  },
  {
   "cell_type": "code",
   "execution_count": 91,
   "id": "8ac83e4c",
   "metadata": {},
   "outputs": [
    {
     "data": {
      "text/plain": [
       "<seaborn.axisgrid.FacetGrid at 0x20e7fc92880>"
      ]
     },
     "execution_count": 91,
     "metadata": {},
     "output_type": "execute_result"
    },
    {
     "data": {
      "image/png": "[encoded data removed]",
      "text/plain": [
       "<Figure size 427.125x360 with 1 Axes>"
      ]
     },
     "metadata": {
      "needs_background": "light"
     },
     "output_type": "display_data"
    }
   ],
   "source": [
    "sns.displot(x='AgeGroup', data=df, hue='Transported')"
   ]
  },
  {
   "cell_type": "code",
   "execution_count": 92,
   "id": "dcca86dd",
   "metadata": {},
   "outputs": [
    {
     "data": {
      "text/plain": [
       "<AxesSubplot:>"
      ]
     },
     "execution_count": 92,
     "metadata": {},
     "output_type": "execute_result"
    },
    {
     "data": {
      "image/png": "[encoded data removed]",
      "text/plain": [
       "<Figure size 432x288 with 2 Axes>"
      ]
     },
     "metadata": {
      "needs_background": "light"
     },
     "output_type": "display_data"
    }
   ],
   "source": [
    "#Toddlers (0.0 age range) rarely spent money (which would make sense if they have a parent/guardian)\n",
    "#and were much more likely to be transported than other age groups. Lets explore this further\n",
    "def is_toddler(ag):\n",
    "    toddler = []\n",
    "    for a in ag:\n",
    "        if (a == 0.0):\n",
    "            toddler.append(1)\n",
    "        else:\n",
    "            toddler.append(0)\n",
    "    return toddler\n",
    "\n",
    "#Ages 0-4\n",
    "df['ToddlerGp'] = is_toddler(df['AgeGroup'])\n",
    "#Just age 0\n",
    "df['Toddler'] = is_toddler(df['Age'])\n",
    "\n",
    "toddler = df[['ToddlerGp', 'Toddler', 'AgeGroup', 'Age', 'Transported']]\n",
    "\n",
    "sns.heatmap(toddler.corr(), annot=True)"
   ]
  },
  {
   "cell_type": "code",
   "execution_count": 93,
   "id": "3512d637",
   "metadata": {},
   "outputs": [],
   "source": [
    "#Create features to test\n",
    "features = ['CryoSleep', 'ToddlerGp', 'NumSpentOnImp']\n",
    "X = df[features]"
   ]
  },
  {
   "cell_type": "code",
   "execution_count": 94,
   "id": "c507f5f0",
   "metadata": {},
   "outputs": [
    {
     "name": "stdout",
     "output_type": "stream",
     "text": [
      "Logistic Regression with X:\n",
      "[0.76078206 0.75445658 0.75790684 0.79056387 0.77157652]\n",
      "\n",
      "Support Vector Machine with X:\n",
      "[0.76595745 0.76078206 0.76193214 0.79286536 0.77617952]\n",
      "\n"
     ]
    }
   ],
   "source": [
    "# Specify models\n",
    "lr = LogisticRegression()\n",
    "svm = svm.SVC()\n",
    "\n",
    "#Run cross-validation on both models\n",
    "scores = cross_val_score(lr, X, y, cv=5, scoring='accuracy')\n",
    "print('Logistic Regression with X:\\n' + str(scores) + '\\n')\n",
    "\n",
    "scores = cross_val_score(svm, X, y, cv=5, scoring='accuracy')\n",
    "print('Support Vector Machine with X:\\n' + str(scores) + '\\n')"
   ]
  },
  {
   "cell_type": "code",
   "execution_count": 289,
   "id": "bc9219ba",
   "metadata": {},
   "outputs": [],
   "source": [
    "from sklearn import svm\n",
    "#Import test data for submission\n",
    "test_df = pd.read_csv('C:/Users/flatt/OneDrive/spaceship_titanic_test.csv')\n",
    "\n",
    "#Change 'CryoSleep' to a binary representation (0 is False, 1 is True)\n",
    "sleep = np.array(test_df['CryoSleep'])\n",
    "sleep_binary = boolean_to_int(sleep)\n",
    "test_df['CryoSleep'] = sleep_binary\n",
    "\n",
    "#Make 'SpentOnRoom' a binary representation (0 is no, 1 is yes)\n",
    "spendings = np.array(test_df['RoomService'])\n",
    "spent_binary = spent_money(spendings)\n",
    "test_df['SpentAtRoom'] = spent_binary\n",
    "\n",
    "#Make 'SpentOnVR' a binary representation (0 is no, 1 is yes)\n",
    "spendings = np.array(test_df['VRDeck'])\n",
    "spent_binary = spent_money(spendings)\n",
    "test_df['SpentAtVR'] = spent_binary\n",
    "\n",
    "#Make 'SpentOnSpa' a binary representation (0 is no, 1 is yes)\n",
    "spendings = np.array(test_df['Spa'])\n",
    "spent_binary = spent_money(spendings)\n",
    "test_df['SpentAtSpa'] = spent_binary\n",
    "\n",
    "#Make the 'NumSpentOnImp' feature\n",
    "imp_spending = ['SpentAtVR', 'SpentAtRoom', 'SpentAtSpa']\n",
    "test_df['NumSpentOnImp'] = test_df[imp_spending].sum(axis=1)\n",
    "\n",
    "#Make 'ToddlerGp' a feature (0 is no, 1 is yes)\n",
    "ag = np.array(test_df['Age'])\n",
    "test_df['Age'].fillna(np.mean(ag), inplace=True)\n",
    "test_df['AgeGroup'] = (test_df['Age'] // 5) * 5\n",
    "test_df['ToddlerGp'] = is_toddler(test_df['AgeGroup'])\n",
    "\n",
    "\n",
    "#Define our label\n",
    "X_test = test_df[['CryoSleep', 'ToddlerGp', 'NumSpentOnImp']]\n",
    "\n",
    "# Specify classifier model\n",
    "clf = svm.SVC()\n",
    "#Fit model with training data\n",
    "clf.fit(X, y)\n",
    "\n",
    "#Make predictions with X_test\n",
    "predictions = clf.predict(X_test)\n",
    "\n",
    "#Convert predictions back to boolean value for submission:\n",
    "#False if 0, True if 1\n",
    "def pred_to_boolean(preds):\n",
    "    bool_preds = []\n",
    "    for pred in preds:\n",
    "        if (pred == 0):\n",
    "            bool_preds.append(False)\n",
    "        elif (pred == 1):\n",
    "            bool_preds.append(True)\n",
    "    return bool_preds\n",
    "\n",
    "bool_preds = pred_to_boolean(predictions)\n",
    "\n",
    "#Save predictions in format used for competition scoring\n",
    "output = pd.DataFrame({'PassengerId': test_df.PassengerId,\n",
    "                       'Transported': bool_preds})\n",
    "output.to_csv('spaceship_titanic_survival_pred19.csv', index=False)"
   ]
  }
 ],
 "metadata": {
  "kernelspec": {
   "display_name": "Python 3 (ipykernel)",
   "language": "python",
   "name": "python3"
  },
  "language_info": {
   "codemirror_mode": {
    "name": "ipython",
    "version": 3
   },
   "file_extension": ".py",
   "mimetype": "text/x-python",
   "name": "python",
   "nbconvert_exporter": "python",
   "pygments_lexer": "ipython3",
   "version": "3.9.7"
  }
 },
 "nbformat": 4,
 "nbformat_minor": 5
}
